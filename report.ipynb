{
 "cells": [
  {
   "cell_type": "markdown",
   "id": "a4aa761d",
   "metadata": {},
   "source": [
    "# Report"
   ]
  },
  {
   "cell_type": "code",
   "execution_count": 1,
   "id": "6bab232a",
   "metadata": {},
   "outputs": [],
   "source": [
    "from class_types_methods.stats import imbalance_ratio, label_minority, label_minority_mul\n",
    "from class_types_methods.resampling import SimilarityOversampling, SimilarityUndersampling, SOUP\n",
    "\n",
    "import pandas as pd\n",
    "import matplotlib.pyplot as plt"
   ]
  },
  {
   "cell_type": "markdown",
   "id": "b044dd90",
   "metadata": {},
   "source": [
    "## Datasets"
   ]
  },
  {
   "cell_type": "markdown",
   "id": "5439dcc2",
   "metadata": {},
   "source": [
    "Two datasets used:\n",
    "* [Balance Scale form UCI repository](https://archive.ics.uci.edu/ml/datasets/balance+scale)\n",
    "* [Credit Card Fraud Detection from kaggle](https://www.kaggle.com/datasets/mlg-ulb/creditcardfraud)"
   ]
  },
  {
   "cell_type": "code",
   "execution_count": 2,
   "id": "f6159bb0",
   "metadata": {},
   "outputs": [],
   "source": [
    "df_balance = pd.read_csv('data/balance-scale.data', header=None, names=['Class', 'LW', 'LD', 'RW', 'RD'])\n",
    "df_credit = pd.read_csv('data/creditcard.csv')"
   ]
  },
  {
   "cell_type": "markdown",
   "id": "352d1cd8",
   "metadata": {},
   "source": [
    "### Plotting datasets initial distributions"
   ]
  },
  {
   "cell_type": "code",
   "execution_count": 3,
   "id": "ada8c0b4",
   "metadata": {},
   "outputs": [
    {
     "data": {
      "image/png": "[encoded data removed]",
      "text/plain": [
       "<Figure size 432x288 with 1 Axes>"
      ]
     },
     "metadata": {
      "needs_background": "light"
     },
     "output_type": "display_data"
    }
   ],
   "source": [
    "plt.title('Balance Scale')\n",
    "plt.hist(df_balance['Class'].astype(str))\n",
    "plt.show()"
   ]
  },
  {
   "cell_type": "code",
   "execution_count": 4,
   "id": "ea6a2c18",
   "metadata": {},
   "outputs": [
    {
     "data": {
      "image/png": "[encoded data removed]",
      "text/plain": [
       "<Figure size 432x288 with 1 Axes>"
      ]
     },
     "metadata": {
      "needs_background": "light"
     },
     "output_type": "display_data"
    }
   ],
   "source": [
    "plt.title('Credit Card Fraud Detection')\n",
    "plt.hist(df_credit['Class'].astype(str))\n",
    "plt.show()"
   ]
  },
  {
   "cell_type": "markdown",
   "id": "9be9acfc",
   "metadata": {},
   "source": [
    "## Methods to obtain statistics about dataset"
   ]
  },
  {
   "cell_type": "markdown",
   "id": "332fc07f",
   "metadata": {},
   "source": [
    "### Imbalance ratio"
   ]
  },
  {
   "cell_type": "markdown",
   "id": "ec6f5793",
   "metadata": {},
   "source": [
    "Function to calculate imbalance ratio between **two** classes."
   ]
  },
  {
   "cell_type": "code",
   "execution_count": 5,
   "id": "1cbeb9db",
   "metadata": {},
   "outputs": [
    {
     "data": {
      "text/plain": [
       "'1 : 577.9'"
      ]
     },
     "execution_count": 5,
     "metadata": {},
     "output_type": "execute_result"
    }
   ],
   "source": [
    "imbalance_ratio(df_credit['Class'])"
   ]
  },
  {
   "cell_type": "markdown",
   "id": "4271f354",
   "metadata": {},
   "source": [
    "### Labeling minority class exapmles using safe level"
   ]
  },
  {
   "cell_type": "markdown",
   "id": "c769fc96",
   "metadata": {},
   "source": [
    "For binary datasets:"
   ]
  },
  {
   "cell_type": "code",
   "execution_count": 6,
   "id": "3c39fb32",
   "metadata": {},
   "outputs": [
    {
     "data": {
      "text/html": [
       "<div>\n",
       "<style scoped>\n",
       "    .dataframe tbody tr th:only-of-type {\n",
       "        vertical-align: middle;\n",
       "    }\n",
       "\n",
       "    .dataframe tbody tr th {\n",
       "        vertical-align: top;\n",
       "    }\n",
       "\n",
       "    .dataframe thead th {\n",
       "        text-align: right;\n",
       "    }\n",
       "</style>\n",
       "<table border=\"1\" class=\"dataframe\">\n",
       "  <thead>\n",
       "    <tr style=\"text-align: right;\">\n",
       "      <th></th>\n",
       "      <th>safe</th>\n",
       "      <th>borderline</th>\n",
       "      <th>rare</th>\n",
       "      <th>outlier</th>\n",
       "    </tr>\n",
       "  </thead>\n",
       "  <tbody>\n",
       "    <tr>\n",
       "      <th>1</th>\n",
       "      <td>5.69</td>\n",
       "      <td>6.3</td>\n",
       "      <td>12.6</td>\n",
       "      <td>75.41</td>\n",
       "    </tr>\n",
       "  </tbody>\n",
       "</table>\n",
       "</div>"
      ],
      "text/plain": [
       "   safe  borderline  rare  outlier\n",
       "1  5.69         6.3  12.6    75.41"
      ]
     },
     "execution_count": 6,
     "metadata": {},
     "output_type": "execute_result"
    }
   ],
   "source": [
    "label_minority(X=df_credit.drop(columns='Class').to_numpy(), y=df_credit['Class'].to_numpy(),\n",
    "               k=5, kernel=False, unit='percent')"
   ]
  },
  {
   "cell_type": "markdown",
   "id": "bca0478d",
   "metadata": {},
   "source": [
    "Parameters used by this function:\n",
    "* X, y - atributes vectors and scalar targets.\n",
    "* k - size of neighbourhood for calculating safe levels.\n",
    "* kernel - if equal to True, it will use kernel method described [here](papers/Types_of_minority_class_examples_and_their_influen.pdf#page=13).\n",
    "* unit - 'absolute' for absolute values (counts); 'percent' for percentages."
   ]
  },
  {
   "cell_type": "markdown",
   "id": "98aedd3a",
   "metadata": {},
   "source": [
    "For multiclass datasets:"
   ]
  },
  {
   "cell_type": "code",
   "execution_count": 7,
   "id": "a9794ec7",
   "metadata": {},
   "outputs": [
    {
     "data": {
      "text/html": [
       "<div>\n",
       "<style scoped>\n",
       "    .dataframe tbody tr th:only-of-type {\n",
       "        vertical-align: middle;\n",
       "    }\n",
       "\n",
       "    .dataframe tbody tr th {\n",
       "        vertical-align: top;\n",
       "    }\n",
       "\n",
       "    .dataframe thead th {\n",
       "        text-align: right;\n",
       "    }\n",
       "</style>\n",
       "<table border=\"1\" class=\"dataframe\">\n",
       "  <thead>\n",
       "    <tr style=\"text-align: right;\">\n",
       "      <th></th>\n",
       "      <th>safe</th>\n",
       "      <th>borderline</th>\n",
       "      <th>rare</th>\n",
       "      <th>outlier</th>\n",
       "    </tr>\n",
       "  </thead>\n",
       "  <tbody>\n",
       "    <tr>\n",
       "      <th>B</th>\n",
       "      <td>0</td>\n",
       "      <td>0</td>\n",
       "      <td>49</td>\n",
       "      <td>0</td>\n",
       "    </tr>\n",
       "    <tr>\n",
       "      <th>L</th>\n",
       "      <td>288</td>\n",
       "      <td>0</td>\n",
       "      <td>0</td>\n",
       "      <td>0</td>\n",
       "    </tr>\n",
       "    <tr>\n",
       "      <th>R</th>\n",
       "      <td>288</td>\n",
       "      <td>0</td>\n",
       "      <td>0</td>\n",
       "      <td>0</td>\n",
       "    </tr>\n",
       "  </tbody>\n",
       "</table>\n",
       "</div>"
      ],
      "text/plain": [
       "   safe  borderline  rare  outlier\n",
       "B     0           0    49        0\n",
       "L   288           0     0        0\n",
       "R   288           0     0        0"
      ]
     },
     "execution_count": 7,
     "metadata": {},
     "output_type": "execute_result"
    }
   ],
   "source": [
    "label_minority_mul(X=df_balance.drop(columns='Class').to_numpy(), y=df_balance['Class'].to_numpy(),\n",
    "               similarities_matrix=None, k=5, unit='absolute')"
   ]
  },
  {
   "cell_type": "markdown",
   "id": "e43774c6",
   "metadata": {},
   "source": [
    "Parameters used by this function:\n",
    "\n",
    "* X, y - atributes vectors and scalar targets.\n",
    "* similarities_matrix - matrix of similarities between classes used to calculate safe levels. If it is not provided heuristic described [here](papers/Using_Information_on_Class_Interrelations_to_Impro.pdf#page=5) is used.\n",
    "* k - size of neighbourhood for calculating safe levels.\n",
    "* unit - 'absolute' for absolute values; 'percent' for percentages."
   ]
  },
  {
   "cell_type": "markdown",
   "id": "b237908d",
   "metadata": {},
   "source": [
    "## Methods for resampling imbalanced data into balanced one"
   ]
  },
  {
   "cell_type": "markdown",
   "id": "7099e6a6",
   "metadata": {},
   "source": [
    "### Similarity Oversampling algorithm"
   ]
  },
  {
   "cell_type": "code",
   "execution_count": 8,
   "id": "4b415366",
   "metadata": {},
   "outputs": [
    {
     "data": {
      "image/png": "[encoded data removed]",
      "text/plain": [
       "<Figure size 432x288 with 1 Axes>"
      ]
     },
     "metadata": {
      "needs_background": "light"
     },
     "output_type": "display_data"
    }
   ],
   "source": [
    "so = SimilarityOversampling(X=df_credit.drop(columns='Class').to_numpy(), y=df_credit['Class'].to_numpy(),\n",
    "                            similarities_matrix=None, k=5)\n",
    "X, y = so.run()\n",
    "\n",
    "plt.hist(y)\n",
    "plt.show()"
   ]
  },
  {
   "cell_type": "markdown",
   "id": "e770002e",
   "metadata": {},
   "source": [
    "Parameters used by this function:\n",
    "\n",
    "* X, y - atributes vectors and scalar targets.\n",
    "* similarities_matrix - matrix of similarities between classes used to calculate safe levels. If it is not provided heuristic described [here](papers/Using_Information_on_Class_Interrelations_to_Impro.pdf#page=5) is used.\n",
    "* k - size of neighbourhood for calculating safe levels.\n",
    "\n",
    "Algorithm's pseudocode can be found [here](papers/Using_Information_on_Class_Interrelations_to_Impro.pdf#page=7)."
   ]
  },
  {
   "cell_type": "markdown",
   "id": "b16bafda",
   "metadata": {},
   "source": [
    "### Similarity Undersampling algorithm"
   ]
  },
  {
   "cell_type": "code",
   "execution_count": 9,
   "id": "41dd2052",
   "metadata": {},
   "outputs": [
    {
     "data": {
      "image/png": "[encoded data removed]",
      "text/plain": [
       "<Figure size 432x288 with 1 Axes>"
      ]
     },
     "metadata": {
      "needs_background": "light"
     },
     "output_type": "display_data"
    }
   ],
   "source": [
    "su = SimilarityUndersampling(X=df_credit.drop(columns='Class').to_numpy(), y=df_credit['Class'].to_numpy(),\n",
    "                            similarities_matrix=None, k=5)\n",
    "X, y = su.run()\n",
    "\n",
    "plt.hist(y)\n",
    "plt.show()"
   ]
  },
  {
   "cell_type": "markdown",
   "id": "c898dc2f",
   "metadata": {},
   "source": [
    "Parameters used by this function:\n",
    "\n",
    "* X, y - atributes vectors and scalar targets.\n",
    "* similarities_matrix - matrix of similarities between classes used to calculate safe levels. If it is not provided heuristic described [here](papers/Using_Information_on_Class_Interrelations_to_Impro.pdf#page=5) is used.\n",
    "* k - size of neighbourhood for calculating safe levels.\n",
    "\n",
    "Algorithm's pseudocode can be found [here](papers/Using_Information_on_Class_Interrelations_to_Impro.pdf#page=7)."
   ]
  },
  {
   "cell_type": "markdown",
   "id": "60df6fda",
   "metadata": {},
   "source": [
    "### Similarity Oversampling and Undersampling Preprocessing (SOUP) algoritm"
   ]
  },
  {
   "cell_type": "code",
   "execution_count": 10,
   "id": "a5ad8da9",
   "metadata": {},
   "outputs": [
    {
     "data": {
      "image/png": "[encoded data removed]",
      "text/plain": [
       "<Figure size 432x288 with 1 Axes>"
      ]
     },
     "metadata": {
      "needs_background": "light"
     },
     "output_type": "display_data"
    }
   ],
   "source": [
    "soup = SOUP(X=df_balance.drop(columns='Class').to_numpy(), y=df_balance['Class'].to_numpy(),\n",
    "                            similarities_matrix=None, k=5)\n",
    "X, y = soup.run()\n",
    "\n",
    "plt.hist(y)\n",
    "plt.show()"
   ]
  },
  {
   "cell_type": "markdown",
   "id": "7a8aac89",
   "metadata": {},
   "source": [
    "Parameters used by this function:\n",
    "\n",
    "* X, y - atributes vectors and scalar targets.\n",
    "* similarities_matrix - matrix of similarities between classes used to calculate safe levels. If it is not provided heuristic described [here](papers/Using_Information_on_Class_Interrelations_to_Impro.pdf#page=5) is used.\n",
    "* k - size of neighbourhood for calculating safe levels.\n",
    "\n",
    "Algorithm's pseudocode can be found [here](papers/Using_Information_on_Class_Interrelations_to_Impro.pdf#page=6)."
   ]
  },
  {
   "cell_type": "markdown",
   "id": "939b680d",
   "metadata": {},
   "source": [
    "### Papers describing methods in detail"
   ]
  },
  {
   "cell_type": "markdown",
   "id": "45bef7a4",
   "metadata": {},
   "source": [
    "* [Types of minority class examples and their influence\n",
    "on learning classifiers from imbalanced data](papers/Types_of_minority_class_examples_and_their_influen.pdf)\n",
    "* [Using information on class interrelations to improve classification of multiclass imbalanced data: a new resampling algorithm](papers/Using_Information_on_Class_Interrelations_to_Impro.pdf)"
   ]
  },
  {
   "cell_type": "code",
   "execution_count": null,
   "id": "70fa8ca5",
   "metadata": {},
   "outputs": [],
   "source": []
  }
 ],
 "metadata": {
  "kernelspec": {
   "display_name": "Python 3 (ipykernel)",
   "language": "python",
   "name": "python3"
  },
  "language_info": {
   "codemirror_mode": {
    "name": "ipython",
    "version": 3
   },
   "file_extension": ".py",
   "mimetype": "text/x-python",
   "name": "python",
   "nbconvert_exporter": "python",
   "pygments_lexer": "ipython3",
   "version": "3.7.6"
  }
 },
 "nbformat": 4,
 "nbformat_minor": 5
}
